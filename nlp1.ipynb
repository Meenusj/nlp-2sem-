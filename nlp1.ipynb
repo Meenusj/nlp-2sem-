{
  "nbformat": 4,
  "nbformat_minor": 0,
  "metadata": {
    "colab": {
      "provenance": [],
      "authorship_tag": "ABX9TyMRUvIO2uLZzIQusjeBTPn+",
      "include_colab_link": true
    },
    "kernelspec": {
      "name": "python3",
      "display_name": "Python 3"
    },
    "language_info": {
      "name": "python"
    }
  },
  "cells": [
    {
      "cell_type": "markdown",
      "metadata": {
        "id": "view-in-github",
        "colab_type": "text"
      },
      "source": [
        "<a href=\"https://colab.research.google.com/github/Meenusj/nlp-2sem-/blob/main/nlp1.ipynb\" target=\"_parent\"><img src=\"https://colab.research.google.com/assets/colab-badge.svg\" alt=\"Open In Colab\"/></a>"
      ]
    },
    {
      "cell_type": "code",
      "source": [
        "!pip install PyPDF2\n"
      ],
      "metadata": {
        "colab": {
          "base_uri": "https://localhost:8080/"
        },
        "id": "uZ2HgETOYbK1",
        "outputId": "cbe15f43-7555-439c-e3fa-8e32fccf598b"
      },
      "execution_count": null,
      "outputs": [
        {
          "output_type": "stream",
          "name": "stdout",
          "text": [
            "Requirement already satisfied: PyPDF2 in /usr/local/lib/python3.10/dist-packages (3.0.1)\n"
          ]
        }
      ]
    },
    {
      "cell_type": "code",
      "execution_count": null,
      "metadata": {
        "colab": {
          "base_uri": "https://localhost:8080/"
        },
        "id": "zJp8Chh5WY_U",
        "outputId": "d6ea82c3-57cb-4c56-90f2-4f5547c57919"
      },
      "outputs": [
        {
          "output_type": "stream",
          "name": "stdout",
          "text": [
            "Introduction to Machine Learning Class Notes\n",
            "Huy Nguyen\n",
            "PhD Student, Human-Computer Interaction Institute\n",
            "Carnegie Mellon University\n"
          ]
        }
      ],
      "source": [
        "import PyPDF2\n",
        "from nltk.tokenize import word_tokenize\n",
        "\n",
        "# creating a pdf reader object\n",
        "reader = PyPDF2.PdfReader('notes.pdf')\n",
        "\n",
        "# print the number of pages in pdf file\n",
        "# print(len(reader.pages))\n",
        "\n",
        "# print the text of the first page\n",
        "print(reader.pages[0].extract_text())\n",
        "\n",
        "\n",
        "#\n",
        "# print(word_tokenize(reader))"
      ]
    }
  ]
}