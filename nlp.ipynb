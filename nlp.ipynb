{
  "nbformat": 4,
  "nbformat_minor": 0,
  "metadata": {
    "colab": {
      "provenance": [],
      "authorship_tag": "ABX9TyM1UZFKKldI/delJ/gVhKxv",
      "include_colab_link": true
    },
    "kernelspec": {
      "name": "python3",
      "display_name": "Python 3"
    },
    "language_info": {
      "name": "python"
    }
  },
  "cells": [
    {
      "cell_type": "markdown",
      "metadata": {
        "id": "view-in-github",
        "colab_type": "text"
      },
      "source": [
        "<a href=\"https://colab.research.google.com/github/Meenusj/nlp-2sem-/blob/main/nlp.ipynb\" target=\"_parent\"><img src=\"https://colab.research.google.com/assets/colab-badge.svg\" alt=\"Open In Colab\"/></a>"
      ]
    },
    {
      "cell_type": "code",
      "execution_count": null,
      "metadata": {
        "colab": {
          "base_uri": "https://localhost:8080/"
        },
        "id": "4kQSzUeudMg1",
        "outputId": "0b5ff337-d54b-4ecd-bcbf-dd0193d64c56"
      },
      "outputs": [
        {
          "output_type": "stream",
          "name": "stdout",
          "text": [
            "alice was beginning to get very tired of sitting by her sister on the bank,\n",
            "and of having nothing to do:\n",
            "once or twice she had peeped into the book her sister was reading,\n",
            "but it has no pictures or conversations in it,\"and what is the use of a book,\"thought alice \"without pictures or conversation\".\n"
          ]
        }
      ],
      "source": [
        "# Sample text data\n",
        "# text = \"Hello, This is an EXAMPLE Text for Demonstration Purposes.\"\n",
        "with open('Alice.txt', 'r', encoding='utf-8') as file:\n",
        "    text = file.read()\n",
        "# Convert the text to lowercase\n",
        "lowercase_text = text.lower()\n",
        "\n",
        "# Print the lowercase text\n",
        "print(lowercase_text)"
      ]
    },
    {
      "cell_type": "code",
      "source": [
        "import string\n",
        "\n",
        "# Sample text data\n",
        "# text = \"Hello, This is an EXAMPLE Text! It includes punctuations.\"\n",
        "with open('Alice.txt', 'r', encoding='utf-8') as file:\n",
        "    text = file.read()\n",
        "\n",
        "# Translation table to remove punctuations\n",
        "translator = str.maketrans('', '', string.punctuation)\n",
        "\n",
        "# Remove punctuations from the text\n",
        "no_punctuations_text = text.translate(translator)\n",
        "\n",
        "# Print the text without punctuations\n",
        "print(no_punctuations_text)"
      ],
      "metadata": {
        "colab": {
          "base_uri": "https://localhost:8080/"
        },
        "id": "Hpd0-l0FdtqH",
        "outputId": "f941e364-3da7-40be-e718-3f90023b851e"
      },
      "execution_count": null,
      "outputs": [
        {
          "output_type": "stream",
          "name": "stdout",
          "text": [
            "Alice was beginning to get very tired of sitting by her sister on the bank\n",
            "and of having nothing to do\n",
            "once or twice she had peeped into the book her sister was reading\n",
            "but it has no pictures or conversations in itand what is the use of a bookthought Alice without pictures or conversation\n"
          ]
        }
      ]
    },
    {
      "cell_type": "code",
      "source": [
        "import nltk\n",
        "nltk.download('punkt')\n",
        "from nltk.tokenize import word_tokenize\n",
        "from collections import Counter\n",
        "\n",
        "# Sample document\n",
        "with open('Alice.txt', 'r', encoding='utf-8') as file:\n",
        "    text = file.read()\n",
        "#document = 'E:\\meenu\\MEENU\\secondsem\\Alice.txt'\n",
        "\n",
        "# Tokenize the document into words\n",
        "words = word_tokenize(text )\n",
        "\n",
        "# Count the frequency of each word\n",
        "word_frequency = Counter(words)\n",
        "\n",
        "# Print the frequency of words\n",
        "for word, frequency in word_frequency.items():\n",
        "    print(f\"{word}: {frequency}\")"
      ],
      "metadata": {
        "colab": {
          "base_uri": "https://localhost:8080/"
        },
        "id": "aWJGASDfeEnD",
        "outputId": "6e3fc982-e11c-49cf-98bb-7ec66131a3c8"
      },
      "execution_count": null,
      "outputs": [
        {
          "output_type": "stream",
          "name": "stderr",
          "text": [
            "[nltk_data] Downloading package punkt to /root/nltk_data...\n",
            "[nltk_data]   Unzipping tokenizers/punkt.zip.\n"
          ]
        },
        {
          "output_type": "stream",
          "name": "stdout",
          "text": [
            "Alice: 2\n",
            "was: 2\n",
            "beginning: 1\n",
            "to: 2\n",
            "get: 1\n",
            "very: 1\n",
            "tired: 1\n",
            "of: 3\n",
            "sitting: 1\n",
            "by: 1\n",
            "her: 2\n",
            "sister: 2\n",
            "on: 1\n",
            "the: 3\n",
            "bank: 1\n",
            ",: 4\n",
            "and: 2\n",
            "having: 1\n",
            "nothing: 1\n",
            "do: 1\n",
            ":: 1\n",
            "once: 1\n",
            "or: 3\n",
            "twice: 1\n",
            "she: 1\n",
            "had: 1\n",
            "peeped: 1\n",
            "into: 1\n",
            "book: 2\n",
            "reading: 1\n",
            "but: 1\n",
            "it: 2\n",
            "has: 1\n",
            "no: 1\n",
            "pictures: 2\n",
            "conversations: 1\n",
            "in: 1\n",
            "'': 3\n",
            "what: 1\n",
            "is: 1\n",
            "use: 1\n",
            "a: 1\n",
            "thought: 1\n",
            "``: 1\n",
            "without: 1\n",
            "conversation: 1\n",
            ".: 1\n"
          ]
        }
      ]
    }
  ]
}